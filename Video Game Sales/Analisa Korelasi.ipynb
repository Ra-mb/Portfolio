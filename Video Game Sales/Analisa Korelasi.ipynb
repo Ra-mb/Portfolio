{
 "cells": [
  {
   "cell_type": "code",
   "execution_count": 9,
   "id": "c98b3f86-5100-4076-9f20-dbe387b34a7d",
   "metadata": {},
   "outputs": [
    {
     "name": "stdout",
     "output_type": "stream",
     "text": [
      "Mean Absolute Error (MAE): 0.6034635618635301\n",
      "R² Score: -0.0412443876427111\n"
     ]
    }
   ],
   "source": [
    "# Import library\n",
    "import pandas as pd\n",
    "from sklearn.ensemble import RandomForestRegressor\n",
    "from sklearn.model_selection import train_test_split\n",
    "from sklearn.metrics import mean_absolute_error, r2_score\n",
    "\n",
    "# Load dataset (sesuaikan dengan file Anda)\n",
    "data = pd.read_excel(\"game_shop.xlsx\")\n",
    "\n",
    "# One-hot encoding untuk kolom kategorikal\n",
    "data = pd.get_dummies(data, columns=[\"Platform\", \"Genre\"], drop_first=True)\n",
    "\n",
    "# Pisahkan fitur dan target\n",
    "X = data.drop(columns=[\"Global_Sales\"])\n",
    "y = data[\"Global_Sales\"]\n",
    "\n",
    "# Bagi data menjadi training dan testing\n",
    "X_train, X_test, y_train, y_test = train_test_split(X, y, test_size=0.2, random_state=42)\n",
    "\n",
    "# Membuat dan melatih model\n",
    "model = RandomForestRegressor(random_state=42)\n",
    "model.fit(X_train, y_train)\n",
    "\n",
    "# Prediksi penjualan\n",
    "y_pred = model.predict(X_test)\n",
    "\n",
    "# Evaluasi model\n",
    "mae = mean_absolute_error(y_test, y_pred)\n",
    "r2 = r2_score(y_test, y_pred)\n",
    "\n",
    "print(\"Mean Absolute Error (MAE):\", mae)\n",
    "print(\"R² Score:\", r2)\n"
   ]
  },
  {
   "cell_type": "code",
   "execution_count": 1,
   "id": "5ea14ff4-bc99-4ed8-8f01-b00bba268e3a",
   "metadata": {},
   "outputs": [
    {
     "name": "stdout",
     "output_type": "stream",
     "text": [
      "Data yang dipilih:\n",
      "   NA_Sales  EU_Sales  JP_Sales  Other_Sales  Global_Sales\n",
      "0     41.49     29.02      3.77         8.46         82.74\n",
      "1     29.08      3.58      6.81         0.77         40.24\n",
      "2     15.85     12.88      3.79         3.31         35.82\n",
      "3     15.75     11.01      3.28         2.96         33.00\n",
      "4     11.27      8.89     10.22         1.00         31.37\n",
      "Matriks Korelasi:\n",
      "              NA_Sales  EU_Sales  JP_Sales  Other_Sales  Global_Sales\n",
      "NA_Sales      1.000000  0.767727  0.449787     0.634737      0.941047\n",
      "EU_Sales      0.767727  1.000000  0.435584     0.726385      0.902836\n",
      "JP_Sales      0.449787  0.435584  1.000000     0.290186      0.611816\n",
      "Other_Sales   0.634737  0.726385  0.290186     1.000000      0.748331\n",
      "Global_Sales  0.941047  0.902836  0.611816     0.748331      1.000000\n",
      "Korelasi dengan Global_Sales:\n",
      "Global_Sales    1.000000\n",
      "NA_Sales        0.941047\n",
      "EU_Sales        0.902836\n",
      "Other_Sales     0.748331\n",
      "JP_Sales        0.611816\n",
      "Name: Global_Sales, dtype: float64\n"
     ]
    }
   ],
   "source": [
    "import pandas as pd\n",
    "\n",
    "data = pd.read_csv(\"vgsales.csv\")\n",
    "selected_data = data[['NA_Sales', 'EU_Sales', 'JP_Sales', 'Other_Sales', 'Global_Sales']]\n",
    "print(\"Data yang dipilih:\")\n",
    "print(selected_data.head())\n",
    "\n",
    "# Hitung korelasi\n",
    "correlation = selected_data.corr()\n",
    "print(\"Matriks Korelasi:\")\n",
    "print(correlation)\n",
    "\n",
    "correlation_with_sales = correlation[\"Global_Sales\"].sort_values(ascending=False)\n",
    "print(\"Korelasi dengan Global_Sales:\")\n",
    "print(correlation_with_sales)"
   ]
  },
  {
   "cell_type": "code",
   "execution_count": 3,
   "id": "d59a225e-6520-468b-9dd4-2607d5b99493",
   "metadata": {},
   "outputs": [
    {
     "name": "stdout",
     "output_type": "stream",
     "text": [
      "Korelasi dengan Global_Sales:\n",
      "Global_Sales                    1.000000\n",
      "north_america_sales             0.941269\n",
      "europe_sales                    0.903264\n",
      "Other_Sales                     0.747964\n",
      "japan_sales                     0.612774\n",
      "                                  ...   \n",
      "Publisher_Namco Bandai Games   -0.041960\n",
      "Platform_PC                    -0.042483\n",
      "Platform_PSP                   -0.053402\n",
      "Genre_Adventure                -0.066303\n",
      "Year                           -0.074647\n",
      "Name: Global_Sales, Length: 622, dtype: float64\n"
     ]
    }
   ],
   "source": [
    "import pandas as pd\n",
    "\n",
    "# Load dataset\n",
    "data = pd.read_excel(\"sales.xlsx\")\n",
    "\n",
    "# One-hot encoding untuk kolom kategorikal\n",
    "data = pd.get_dummies(data, columns=[\"Platform\", \"Genre\", \"Publisher\"], drop_first=True)\n",
    "\n",
    "# Hitung matriks korelasi\n",
    "correlation = data.corr()\n",
    "\n",
    "# Ambil korelasi hanya terhadap kolom target (Global_Sales)\n",
    "correlation_with_sales = correlation[\"Global_Sales\"].sort_values(ascending=False)\n",
    "\n",
    "# Tampilkan hasil\n",
    "print(\"Korelasi dengan Global_Sales:\")\n",
    "print(correlation_with_sales)"
   ]
  }
 ],
 "metadata": {
  "kernelspec": {
   "display_name": "Python 3 (ipykernel)",
   "language": "python",
   "name": "python3"
  },
  "language_info": {
   "codemirror_mode": {
    "name": "ipython",
    "version": 3
   },
   "file_extension": ".py",
   "mimetype": "text/x-python",
   "name": "python",
   "nbconvert_exporter": "python",
   "pygments_lexer": "ipython3",
   "version": "3.13.1"
  }
 },
 "nbformat": 4,
 "nbformat_minor": 5
}
