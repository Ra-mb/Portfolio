{
 "cells": [
  {
   "cell_type": "code",
   "execution_count": 1,
   "id": "acf40975-d1a9-44b3-859d-844513676f52",
   "metadata": {},
   "outputs": [],
   "source": [
    "import pandas as pd"
   ]
  },
  {
   "cell_type": "code",
   "execution_count": 11,
   "id": "7accf5ce-daea-4152-bb9e-401632270a4d",
   "metadata": {},
   "outputs": [
    {
     "data": {
      "text/html": [
       "<div>\n",
       "<style scoped>\n",
       "    .dataframe tbody tr th:only-of-type {\n",
       "        vertical-align: middle;\n",
       "    }\n",
       "\n",
       "    .dataframe tbody tr th {\n",
       "        vertical-align: top;\n",
       "    }\n",
       "\n",
       "    .dataframe thead th {\n",
       "        text-align: right;\n",
       "    }\n",
       "</style>\n",
       "<table border=\"1\" class=\"dataframe\">\n",
       "  <thead>\n",
       "    <tr style=\"text-align: right;\">\n",
       "      <th></th>\n",
       "      <th>Date</th>\n",
       "      <th>Product Name</th>\n",
       "      <th>Product Type</th>\n",
       "      <th>Brand</th>\n",
       "      <th>Gender</th>\n",
       "      <th>Category</th>\n",
       "      <th>Country</th>\n",
       "      <th>Quantity</th>\n",
       "      <th>Unit Price ($)</th>\n",
       "      <th>Amount ($)</th>\n",
       "      <th>Payment Mode</th>\n",
       "    </tr>\n",
       "  </thead>\n",
       "  <tbody>\n",
       "    <tr>\n",
       "      <th>0</th>\n",
       "      <td>2022-05-27</td>\n",
       "      <td>Fear of God Essentials Tee</td>\n",
       "      <td>T-shirt</td>\n",
       "      <td>Essentials</td>\n",
       "      <td>Unisex</td>\n",
       "      <td>Limited Edition</td>\n",
       "      <td>Japan</td>\n",
       "      <td>5</td>\n",
       "      <td>141.82</td>\n",
       "      <td>709.10</td>\n",
       "      <td>Card</td>\n",
       "    </tr>\n",
       "    <tr>\n",
       "      <th>1</th>\n",
       "      <td>2022-08-22</td>\n",
       "      <td>Yeezy Boost 350</td>\n",
       "      <td>Sneakers</td>\n",
       "      <td>Adidas</td>\n",
       "      <td>Unisex</td>\n",
       "      <td>Streetwear</td>\n",
       "      <td>USA</td>\n",
       "      <td>2</td>\n",
       "      <td>267.34</td>\n",
       "      <td>534.68</td>\n",
       "      <td>Cash on Delivery</td>\n",
       "    </tr>\n",
       "    <tr>\n",
       "      <th>2</th>\n",
       "      <td>2022-04-03</td>\n",
       "      <td>Nike Dunk Low</td>\n",
       "      <td>Sneakers</td>\n",
       "      <td>Nike</td>\n",
       "      <td>Women</td>\n",
       "      <td>Limited Edition</td>\n",
       "      <td>Germany</td>\n",
       "      <td>1</td>\n",
       "      <td>292.00</td>\n",
       "      <td>292.00</td>\n",
       "      <td>Cash on Delivery</td>\n",
       "    </tr>\n",
       "    <tr>\n",
       "      <th>3</th>\n",
       "      <td>2022-07-13</td>\n",
       "      <td>Nike Tech Fleece</td>\n",
       "      <td>Hoodie</td>\n",
       "      <td>Nike</td>\n",
       "      <td>Men</td>\n",
       "      <td>Limited Edition</td>\n",
       "      <td>USA</td>\n",
       "      <td>4</td>\n",
       "      <td>245.44</td>\n",
       "      <td>981.76</td>\n",
       "      <td>Cash on Delivery</td>\n",
       "    </tr>\n",
       "    <tr>\n",
       "      <th>4</th>\n",
       "      <td>2022-08-25</td>\n",
       "      <td>Jordan 1 High</td>\n",
       "      <td>Sneakers</td>\n",
       "      <td>Nike</td>\n",
       "      <td>Women</td>\n",
       "      <td>Casual</td>\n",
       "      <td>Australia</td>\n",
       "      <td>2</td>\n",
       "      <td>184.51</td>\n",
       "      <td>369.02</td>\n",
       "      <td>Cash on Delivery</td>\n",
       "    </tr>\n",
       "    <tr>\n",
       "      <th>...</th>\n",
       "      <td>...</td>\n",
       "      <td>...</td>\n",
       "      <td>...</td>\n",
       "      <td>...</td>\n",
       "      <td>...</td>\n",
       "      <td>...</td>\n",
       "      <td>...</td>\n",
       "      <td>...</td>\n",
       "      <td>...</td>\n",
       "      <td>...</td>\n",
       "      <td>...</td>\n",
       "    </tr>\n",
       "    <tr>\n",
       "      <th>348</th>\n",
       "      <td>2022-04-08</td>\n",
       "      <td>Jordan 1 High</td>\n",
       "      <td>Sneakers</td>\n",
       "      <td>Nike</td>\n",
       "      <td>Men</td>\n",
       "      <td>Casual</td>\n",
       "      <td>India</td>\n",
       "      <td>5</td>\n",
       "      <td>94.25</td>\n",
       "      <td>471.25</td>\n",
       "      <td>Wallet</td>\n",
       "    </tr>\n",
       "    <tr>\n",
       "      <th>349</th>\n",
       "      <td>2022-08-03</td>\n",
       "      <td>Nike Tech Fleece</td>\n",
       "      <td>Hoodie</td>\n",
       "      <td>Nike</td>\n",
       "      <td>Women</td>\n",
       "      <td>Casual</td>\n",
       "      <td>Germany</td>\n",
       "      <td>5</td>\n",
       "      <td>259.00</td>\n",
       "      <td>1295.00</td>\n",
       "      <td>Card</td>\n",
       "    </tr>\n",
       "    <tr>\n",
       "      <th>350</th>\n",
       "      <td>2022-05-05</td>\n",
       "      <td>Puma Joggers</td>\n",
       "      <td>Joggers</td>\n",
       "      <td>Puma</td>\n",
       "      <td>Women</td>\n",
       "      <td>Casual</td>\n",
       "      <td>Germany</td>\n",
       "      <td>4</td>\n",
       "      <td>299.73</td>\n",
       "      <td>1198.92</td>\n",
       "      <td>Cash on Delivery</td>\n",
       "    </tr>\n",
       "    <tr>\n",
       "      <th>351</th>\n",
       "      <td>2022-05-19</td>\n",
       "      <td>Adidas Ultraboost</td>\n",
       "      <td>Sneakers</td>\n",
       "      <td>Adidas</td>\n",
       "      <td>Men</td>\n",
       "      <td>Casual</td>\n",
       "      <td>Canada</td>\n",
       "      <td>5</td>\n",
       "      <td>71.26</td>\n",
       "      <td>356.30</td>\n",
       "      <td>Cash on Delivery</td>\n",
       "    </tr>\n",
       "    <tr>\n",
       "      <th>352</th>\n",
       "      <td>2022-07-17</td>\n",
       "      <td>Nike Dunk Low</td>\n",
       "      <td>Sneakers</td>\n",
       "      <td>Nike</td>\n",
       "      <td>Women</td>\n",
       "      <td>Limited Edition</td>\n",
       "      <td>Japan</td>\n",
       "      <td>5</td>\n",
       "      <td>270.14</td>\n",
       "      <td>1350.70</td>\n",
       "      <td>Wallet</td>\n",
       "    </tr>\n",
       "  </tbody>\n",
       "</table>\n",
       "<p>353 rows × 11 columns</p>\n",
       "</div>"
      ],
      "text/plain": [
       "           Date                Product Name Product Type       Brand  Gender  \\\n",
       "0    2022-05-27  Fear of God Essentials Tee      T-shirt  Essentials  Unisex   \n",
       "1    2022-08-22             Yeezy Boost 350     Sneakers      Adidas  Unisex   \n",
       "2    2022-04-03               Nike Dunk Low     Sneakers        Nike   Women   \n",
       "3    2022-07-13            Nike Tech Fleece       Hoodie        Nike     Men   \n",
       "4    2022-08-25               Jordan 1 High     Sneakers        Nike   Women   \n",
       "..          ...                         ...          ...         ...     ...   \n",
       "348  2022-04-08               Jordan 1 High     Sneakers        Nike     Men   \n",
       "349  2022-08-03            Nike Tech Fleece       Hoodie        Nike   Women   \n",
       "350  2022-05-05                Puma Joggers      Joggers        Puma   Women   \n",
       "351  2022-05-19           Adidas Ultraboost     Sneakers      Adidas     Men   \n",
       "352  2022-07-17               Nike Dunk Low     Sneakers        Nike   Women   \n",
       "\n",
       "            Category    Country  Quantity  Unit Price ($)  Amount ($)  \\\n",
       "0    Limited Edition      Japan         5          141.82      709.10   \n",
       "1         Streetwear        USA         2          267.34      534.68   \n",
       "2    Limited Edition    Germany         1          292.00      292.00   \n",
       "3    Limited Edition        USA         4          245.44      981.76   \n",
       "4             Casual  Australia         2          184.51      369.02   \n",
       "..               ...        ...       ...             ...         ...   \n",
       "348           Casual      India         5           94.25      471.25   \n",
       "349           Casual    Germany         5          259.00     1295.00   \n",
       "350           Casual    Germany         4          299.73     1198.92   \n",
       "351           Casual     Canada         5           71.26      356.30   \n",
       "352  Limited Edition      Japan         5          270.14     1350.70   \n",
       "\n",
       "         Payment Mode  \n",
       "0                Card  \n",
       "1    Cash on Delivery  \n",
       "2    Cash on Delivery  \n",
       "3    Cash on Delivery  \n",
       "4    Cash on Delivery  \n",
       "..                ...  \n",
       "348            Wallet  \n",
       "349              Card  \n",
       "350  Cash on Delivery  \n",
       "351  Cash on Delivery  \n",
       "352            Wallet  \n",
       "\n",
       "[353 rows x 11 columns]"
      ]
     },
     "execution_count": 11,
     "metadata": {},
     "output_type": "execute_result"
    }
   ],
   "source": [
    "df = pd.read_csv(r\"C:\\Users\\user\\OneDrive\\Documents\\Dataset\\New Portfolio\\Sneakers Sales\\sneakers.csv\")\n",
    "df"
   ]
  },
  {
   "cell_type": "code",
   "execution_count": 12,
   "id": "2e4f6462-f4f8-4686-8b2d-f0233df1bb6c",
   "metadata": {},
   "outputs": [
    {
     "name": "stdout",
     "output_type": "stream",
     "text": [
      "<class 'pandas.core.frame.DataFrame'>\n",
      "RangeIndex: 353 entries, 0 to 352\n",
      "Data columns (total 11 columns):\n",
      " #   Column          Non-Null Count  Dtype  \n",
      "---  ------          --------------  -----  \n",
      " 0   Date            353 non-null    object \n",
      " 1   Product Name    353 non-null    object \n",
      " 2   Product Type    353 non-null    object \n",
      " 3   Brand           353 non-null    object \n",
      " 4   Gender          353 non-null    object \n",
      " 5   Category        353 non-null    object \n",
      " 6   Country         353 non-null    object \n",
      " 7   Quantity        353 non-null    int64  \n",
      " 8   Unit Price ($)  353 non-null    float64\n",
      " 9   Amount ($)      353 non-null    float64\n",
      " 10  Payment Mode    353 non-null    object \n",
      "dtypes: float64(2), int64(1), object(8)\n",
      "memory usage: 30.5+ KB\n"
     ]
    }
   ],
   "source": [
    "df.info()"
   ]
  },
  {
   "cell_type": "code",
   "execution_count": 18,
   "id": "302a7e8f-f078-49c1-8ed4-9355967b530c",
   "metadata": {},
   "outputs": [
    {
     "data": {
      "text/plain": [
       "<bound method NDFrame.describe of           Date                Product Name Product Type       Brand  Gender  \\\n",
       "0   2022-05-27  Fear of God Essentials Tee      T-shirt  Essentials  Unisex   \n",
       "1   2022-08-22             Yeezy Boost 350     Sneakers      Adidas  Unisex   \n",
       "2   2022-04-03               Nike Dunk Low     Sneakers        Nike   Women   \n",
       "3   2022-07-13            Nike Tech Fleece       Hoodie        Nike     Men   \n",
       "4   2022-08-25               Jordan 1 High     Sneakers        Nike   Women   \n",
       "..         ...                         ...          ...         ...     ...   \n",
       "348 2022-04-08               Jordan 1 High     Sneakers        Nike     Men   \n",
       "349 2022-08-03            Nike Tech Fleece       Hoodie        Nike   Women   \n",
       "350 2022-05-05                Puma Joggers      Joggers        Puma   Women   \n",
       "351 2022-05-19           Adidas Ultraboost     Sneakers      Adidas     Men   \n",
       "352 2022-07-17               Nike Dunk Low     Sneakers        Nike   Women   \n",
       "\n",
       "            Category    Country  Quantity  Unit Price ($)  Amount ($)  \\\n",
       "0    Limited Edition      Japan         5          141.82      709.10   \n",
       "1         Streetwear        USA         2          267.34      534.68   \n",
       "2    Limited Edition    Germany         1          292.00      292.00   \n",
       "3    Limited Edition        USA         4          245.44      981.76   \n",
       "4             Casual  Australia         2          184.51      369.02   \n",
       "..               ...        ...       ...             ...         ...   \n",
       "348           Casual      India         5           94.25      471.25   \n",
       "349           Casual    Germany         5          259.00     1295.00   \n",
       "350           Casual    Germany         4          299.73     1198.92   \n",
       "351           Casual     Canada         5           71.26      356.30   \n",
       "352  Limited Edition      Japan         5          270.14     1350.70   \n",
       "\n",
       "         Payment Mode  \n",
       "0                Card  \n",
       "1    Cash on Delivery  \n",
       "2    Cash on Delivery  \n",
       "3    Cash on Delivery  \n",
       "4    Cash on Delivery  \n",
       "..                ...  \n",
       "348            Wallet  \n",
       "349              Card  \n",
       "350  Cash on Delivery  \n",
       "351  Cash on Delivery  \n",
       "352            Wallet  \n",
       "\n",
       "[353 rows x 11 columns]>"
      ]
     },
     "execution_count": 18,
     "metadata": {},
     "output_type": "execute_result"
    }
   ],
   "source": [
    "df.describe"
   ]
  },
  {
   "cell_type": "code",
   "execution_count": 16,
   "id": "473766af-84cc-4a53-b4e7-790752e0b499",
   "metadata": {},
   "outputs": [],
   "source": [
    "df['Date'] = pd.to_datetime(df['Date'], format='%Y/%m/%d').dt.normalize()"
   ]
  },
  {
   "cell_type": "code",
   "execution_count": 17,
   "id": "19991688-b3b3-4dbc-a0ea-f5177e5ffc5a",
   "metadata": {},
   "outputs": [
    {
     "data": {
      "text/plain": [
       "Date              datetime64[ns]\n",
       "Product Name              object\n",
       "Product Type              object\n",
       "Brand                     object\n",
       "Gender                    object\n",
       "Category                  object\n",
       "Country                   object\n",
       "Quantity                   int64\n",
       "Unit Price ($)           float64\n",
       "Amount ($)               float64\n",
       "Payment Mode              object\n",
       "dtype: object"
      ]
     },
     "execution_count": 17,
     "metadata": {},
     "output_type": "execute_result"
    }
   ],
   "source": [
    "df.dtypes"
   ]
  },
  {
   "cell_type": "code",
   "execution_count": 5,
   "id": "ed9272d4-6e5a-4b09-b255-bf2dbb520584",
   "metadata": {},
   "outputs": [
    {
     "data": {
      "text/plain": [
       "Date              0\n",
       "Product Name      0\n",
       "Product Type      0\n",
       "Brand             0\n",
       "Gender            0\n",
       "Category          0\n",
       "Country           0\n",
       "Quantity          0\n",
       "Unit Price ($)    0\n",
       "Amount ($)        0\n",
       "Payment Mode      0\n",
       "dtype: int64"
      ]
     },
     "execution_count": 5,
     "metadata": {},
     "output_type": "execute_result"
    }
   ],
   "source": [
    "df.isnull().sum()"
   ]
  },
  {
   "cell_type": "code",
   "execution_count": 6,
   "id": "55b5b051-2660-497d-bda5-8ba065047b34",
   "metadata": {},
   "outputs": [
    {
     "data": {
      "text/plain": [
       "np.int64(0)"
      ]
     },
     "execution_count": 6,
     "metadata": {},
     "output_type": "execute_result"
    }
   ],
   "source": [
    "df.duplicated().sum()"
   ]
  },
  {
   "cell_type": "code",
   "execution_count": 22,
   "id": "bbfe5b16-e112-41ad-963a-299c8ddd6eb0",
   "metadata": {},
   "outputs": [
    {
     "name": "stdout",
     "output_type": "stream",
     "text": [
      "Jumlah outlier terdeteksi: 0\n",
      "Empty DataFrame\n",
      "Columns: [Date, Product Name, Quantity, Unit Price ($), Amount ($)]\n",
      "Index: []\n"
     ]
    }
   ],
   "source": [
    "# Hitung Q1, Q3, dan IQR\n",
    "Q1 = df[['Quantity', 'Unit Price ($)', 'Amount ($)']].quantile(0.25)\n",
    "Q3 = df[['Quantity', 'Unit Price ($)', 'Amount ($)']].quantile(0.75)\n",
    "IQR = Q3 - Q1\n",
    "\n",
    "# Filter baris yang mengandung outlier\n",
    "outliers = df[\n",
    "    ((df[['Quantity', 'Unit Price ($)', 'Amount ($)']] < (Q1 - 1.5 * IQR)) |\n",
    "     (df[['Quantity', 'Unit Price ($)', 'Amount ($)']] > (Q3 + 1.5 * IQR))).any(axis=1)\n",
    "]\n",
    "\n",
    "# Cetak hasil outlier\n",
    "print(\"Jumlah outlier terdeteksi:\", len(outliers))\n",
    "print(outliers[['Date', 'Product Name', 'Quantity', 'Unit Price ($)', 'Amount ($)']])\n"
   ]
  },
  {
   "cell_type": "code",
   "execution_count": 25,
   "id": "b8733606-4373-4e5d-9251-3bc5a997c0f3",
   "metadata": {},
   "outputs": [
    {
     "data": {
      "image/png": "[encoded data removed]",
      "text/plain": [
       "<Figure size 640x480 with 1 Axes>"
      ]
     },
     "metadata": {},
     "output_type": "display_data"
    },
    {
     "data": {
      "image/png": "[encoded data removed]",
      "text/plain": [
       "<Figure size 640x480 with 1 Axes>"
      ]
     },
     "metadata": {},
     "output_type": "display_data"
    }
   ],
   "source": [
    "import seaborn as sns\n",
    "import matplotlib.pyplot as plt\n",
    "\n",
    "\n",
    "# Boxplot untuk Quantity\n",
    "sns.boxplot(x=df['Quantity'])\n",
    "plt.title('Boxplot Quantity')\n",
    "plt.show()\n",
    "\n",
    "# Boxplot untuk Unit Price\n",
    "sns.boxplot(x=df['Unit Price ($)'])\n",
    "plt.title('Boxplot Unit Price')\n",
    "plt.show()\n"
   ]
  },
  {
   "cell_type": "code",
   "execution_count": 13,
   "id": "f86c9aa4-4020-444c-83b8-2c13884dd80f",
   "metadata": {},
   "outputs": [],
   "source": [
    "df.to_csv('sneakers.csv', index=False)"
   ]
  }
 ],
 "metadata": {
  "kernelspec": {
   "display_name": "Python 3 (ipykernel)",
   "language": "python",
   "name": "python3"
  },
  "language_info": {
   "codemirror_mode": {
    "name": "ipython",
    "version": 3
   },
   "file_extension": ".py",
   "mimetype": "text/x-python",
   "name": "python",
   "nbconvert_exporter": "python",
   "pygments_lexer": "ipython3",
   "version": "3.13.1"
  }
 },
 "nbformat": 4,
 "nbformat_minor": 5
}
